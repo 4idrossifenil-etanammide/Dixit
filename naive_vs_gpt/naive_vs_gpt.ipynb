{
 "cells": [
  {
   "cell_type": "markdown",
   "metadata": {},
   "source": [
    "Load libraries"
   ]
  },
  {
   "cell_type": "code",
   "execution_count": 1,
   "metadata": {},
   "outputs": [
    {
     "name": "stderr",
     "output_type": "stream",
     "text": [
      "C:\\Users\\stefa\\AppData\\Local\\Packages\\PythonSoftwareFoundation.Python.3.8_qbz5n2kfra8p0\\LocalCache\\local-packages\\Python38\\site-packages\\tqdm\\auto.py:21: TqdmWarning: IProgress not found. Please update jupyter and ipywidgets. See https://ipywidgets.readthedocs.io/en/stable/user_install.html\n",
      "  from .autonotebook import tqdm as notebook_tqdm\n"
     ]
    }
   ],
   "source": [
    "from transformers import BlipProcessor, BlipForConditionalGeneration\n",
    "import torch\n",
    "import matplotlib.pyplot as plt\n",
    "\n",
    "import random\n",
    "from PIL import Image\n",
    "import os\n",
    "import base64\n",
    "import io\n",
    "import sys\n",
    "import time\n",
    "import requests\n",
    "import re\n",
    "from tqdm import tqdm\n",
    "\n",
    "from typing import List, Dict\n",
    "\n",
    "random.seed(2024)\n",
    "torch.manual_seed(2024)\n",
    "device = \"cuda\" if torch.cuda.is_available() else \"cpu\""
   ]
  },
  {
   "cell_type": "markdown",
   "metadata": {},
   "source": [
    "Load images"
   ]
  },
  {
   "cell_type": "code",
   "execution_count": 2,
   "metadata": {},
   "outputs": [],
   "source": [
    "path_to_images = \"../cards/odissey_cards\"\n",
    "deck = []\n",
    "\n",
    "for image_name in os.listdir(path_to_images):\n",
    "    image_number = int(image_name.split(\".\")[0])\n",
    "    image = Image.open(os.path.join(path_to_images, image_name)).convert(\"RGB\")\n",
    "    image = image.resize((224,224))\n",
    "    deck.append(image)"
   ]
  },
  {
   "cell_type": "markdown",
   "metadata": {},
   "source": [
    "Define GPT and naive players"
   ]
  },
  {
   "cell_type": "code",
   "execution_count": 3,
   "metadata": {},
   "outputs": [],
   "source": [
    "class GPT():\n",
    "    def __init__(self, api_key: str):\n",
    "        \n",
    "        self.api_key = api_key\n",
    "        self.headers = {\"Content-Type\": \"application/json\", \"Authorization\": f\"Bearer {self.api_key}\"}\n",
    "\n",
    "    def encode_image(self, image: Image.Image) -> str:\n",
    "        buffered = io.BytesIO()\n",
    "        image.save(buffered, format=\"PNG\") \n",
    "        image_bytes = buffered.getvalue()\n",
    "        return base64.b64encode(image_bytes).decode('utf-8')\n",
    "    \n",
    "    def select_card_from_caption(self, images: List[Image.Image], caption: str) -> int:\n",
    "        \n",
    "        base64_cards = [self.encode_image(image) for image in images]\n",
    "        messages = [\n",
    "            {\n",
    "                \"role\": \"system\",\n",
    "                \"content\": \"You are playing a game of Dixit. Your task is to select the best matching card for a given story prompt from the images provided. Return the index of the selected card as a number between 0 and N-1, where N is the number of cards.\"\n",
    "            },\n",
    "            {\n",
    "                \"role\": \"user\",\n",
    "                \"content\": f\"The story prompt is: {caption}.\"\n",
    "            }\n",
    "        ]\n",
    "\n",
    "        for idx, base64_image in enumerate(base64_cards):\n",
    "            messages.append({\n",
    "                \"role\": \"user\",\n",
    "                \"content\": [{\n",
    "                        \"type\": \"text\",\n",
    "                        \"text\": f\"This is card with index {idx}\"\n",
    "                    },\n",
    "                    {\n",
    "                        \"type\": \"image_url\",\n",
    "                        \"image_url\": {\"url\": f\"data:image/jpeg;base64,{base64_image}\"}\n",
    "                    }\n",
    "                ]\n",
    "            })\n",
    "\n",
    "        data = {\n",
    "            \"model\": \"gpt-4o-mini\",\n",
    "            \"messages\": messages\n",
    "        }\n",
    "\n",
    "        max_retries = 3\n",
    "        retries = 0\n",
    "\n",
    "        while retries < max_retries:\n",
    "\n",
    "            try:\n",
    "                response = requests.post('https://api.openai.com/v1/chat/completions', headers=self.headers, json=data)\n",
    "                response = response.json()\n",
    "\n",
    "                content = response['choices'][0][\"message\"]['content']\n",
    "                match = re.search(r'\\d+', content)\n",
    "                index = int(match.group())  \n",
    "\n",
    "                return index\n",
    "            \n",
    "            except Exception as e:\n",
    "                print(e)\n",
    "                retries += 1\n",
    "\n",
    "                time.sleep(retries * 60)\n",
    "\n",
    "        print(\"MAXIMUM RETRIES NUMBER REACHED. GPT IS NOT AVAILABLE AT THE MOMENT. RETRY LATER.\")\n",
    "        sys.exit(1)\n",
    "\n",
    "class Naive():\n",
    "    def __init__(self):\n",
    "        pass\n",
    "\n",
    "    def select_card_from_caption(self, images: List[Image.Image], caption: str) -> int:\n",
    "        return random.randint(0, len(images)-1)"
   ]
  },
  {
   "cell_type": "markdown",
   "metadata": {},
   "source": [
    "Defining game environment:\n",
    " - Sample 5 images from the deck\n",
    " - Pick randomly a correct card among the five\n",
    " - Make the BLIP model create a caption for it\n",
    " - Feed the images and the caption to both model and compute scores"
   ]
  },
  {
   "cell_type": "code",
   "execution_count": 4,
   "metadata": {},
   "outputs": [],
   "source": [
    "def play(iterations: int, n_samples: int, gpt: GPT, naive: Naive, deck: List[Image.Image], blip_processor: BlipProcessor, blip_model: BlipForConditionalGeneration) -> Dict[str, Dict[str, float]]:\n",
    "    tot = 0\n",
    "    gpt_corrects = 0\n",
    "    naive_corrects = 0\n",
    "    for _ in tqdm(range(iterations)):\n",
    "        images = random.sample(deck, n_samples)\n",
    "\n",
    "        correct_index = random.randrange(len(images))\n",
    "        correct_image = images[correct_index]\n",
    "\n",
    "        inputs = blip_processor(correct_image, return_tensors=\"pt\").to(device)\n",
    "\n",
    "        with torch.no_grad():\n",
    "            caption_ids = blip_model.generate(\n",
    "                **inputs,\n",
    "                max_length=50, \n",
    "                num_return_sequences=1,\n",
    "                do_sample=True,\n",
    "                top_k=50,      \n",
    "                top_p=0.95,    \n",
    "                temperature=0.7,\n",
    "                repetition_penalty=1.2, \n",
    "                no_repeat_ngram_size=3 \n",
    "            )\n",
    "\n",
    "        caption = blip_processor.decode(caption_ids[0], skip_special_tokens=True)\n",
    "\n",
    "        gpt_index = gpt.select_card_from_caption(images, caption)\n",
    "        naive_index = naive.select_card_from_caption(images, caption)\n",
    "\n",
    "        gpt_corrects += gpt_index  == correct_index\n",
    "        naive_corrects += naive_index  == correct_index\n",
    "        tot += 1\n",
    "\n",
    "    return {\"GPT\": {\"corrects\": gpt_corrects/tot, \"wrong\": 1 - (gpt_corrects/tot)}, \"Naive\": {\"corrects\": naive_corrects/tot, \"wrong\": 1 - (naive_corrects/tot)}}\n"
   ]
  },
  {
   "cell_type": "markdown",
   "metadata": {},
   "source": [
    "Define models and parameters to perform a simulation"
   ]
  },
  {
   "cell_type": "code",
   "execution_count": 5,
   "metadata": {},
   "outputs": [
    {
     "name": "stderr",
     "output_type": "stream",
     "text": [
      "C:\\Users\\stefa\\AppData\\Local\\Packages\\PythonSoftwareFoundation.Python.3.8_qbz5n2kfra8p0\\LocalCache\\local-packages\\Python38\\site-packages\\torch\\_utils.py:776: UserWarning: TypedStorage is deprecated. It will be removed in the future and UntypedStorage will be the only storage class. This should only matter to you if you are using storages directly.  To access UntypedStorage directly, use tensor.untyped_storage() instead of tensor.storage()\n",
      "  return self.fget.__get__(instance, owner)()\n"
     ]
    },
    {
     "data": {
      "text/plain": [
       "BlipForConditionalGeneration(\n",
       "  (vision_model): BlipVisionModel(\n",
       "    (embeddings): BlipVisionEmbeddings(\n",
       "      (patch_embedding): Conv2d(3, 768, kernel_size=(16, 16), stride=(16, 16))\n",
       "    )\n",
       "    (encoder): BlipEncoder(\n",
       "      (layers): ModuleList(\n",
       "        (0-11): 12 x BlipEncoderLayer(\n",
       "          (self_attn): BlipAttention(\n",
       "            (dropout): Dropout(p=0.0, inplace=False)\n",
       "            (qkv): Linear(in_features=768, out_features=2304, bias=True)\n",
       "            (projection): Linear(in_features=768, out_features=768, bias=True)\n",
       "          )\n",
       "          (layer_norm1): LayerNorm((768,), eps=1e-05, elementwise_affine=True)\n",
       "          (mlp): BlipMLP(\n",
       "            (activation_fn): GELUActivation()\n",
       "            (fc1): Linear(in_features=768, out_features=3072, bias=True)\n",
       "            (fc2): Linear(in_features=3072, out_features=768, bias=True)\n",
       "          )\n",
       "          (layer_norm2): LayerNorm((768,), eps=1e-05, elementwise_affine=True)\n",
       "        )\n",
       "      )\n",
       "    )\n",
       "    (post_layernorm): LayerNorm((768,), eps=1e-05, elementwise_affine=True)\n",
       "  )\n",
       "  (text_decoder): BlipTextLMHeadModel(\n",
       "    (bert): BlipTextModel(\n",
       "      (embeddings): BlipTextEmbeddings(\n",
       "        (word_embeddings): Embedding(30524, 768, padding_idx=0)\n",
       "        (position_embeddings): Embedding(512, 768)\n",
       "        (LayerNorm): LayerNorm((768,), eps=1e-12, elementwise_affine=True)\n",
       "        (dropout): Dropout(p=0.0, inplace=False)\n",
       "      )\n",
       "      (encoder): BlipTextEncoder(\n",
       "        (layer): ModuleList(\n",
       "          (0-11): 12 x BlipTextLayer(\n",
       "            (attention): BlipTextAttention(\n",
       "              (self): BlipTextSelfAttention(\n",
       "                (query): Linear(in_features=768, out_features=768, bias=True)\n",
       "                (key): Linear(in_features=768, out_features=768, bias=True)\n",
       "                (value): Linear(in_features=768, out_features=768, bias=True)\n",
       "                (dropout): Dropout(p=0.0, inplace=False)\n",
       "              )\n",
       "              (output): BlipTextSelfOutput(\n",
       "                (dense): Linear(in_features=768, out_features=768, bias=True)\n",
       "                (LayerNorm): LayerNorm((768,), eps=1e-12, elementwise_affine=True)\n",
       "                (dropout): Dropout(p=0.0, inplace=False)\n",
       "              )\n",
       "            )\n",
       "            (crossattention): BlipTextAttention(\n",
       "              (self): BlipTextSelfAttention(\n",
       "                (query): Linear(in_features=768, out_features=768, bias=True)\n",
       "                (key): Linear(in_features=768, out_features=768, bias=True)\n",
       "                (value): Linear(in_features=768, out_features=768, bias=True)\n",
       "                (dropout): Dropout(p=0.0, inplace=False)\n",
       "              )\n",
       "              (output): BlipTextSelfOutput(\n",
       "                (dense): Linear(in_features=768, out_features=768, bias=True)\n",
       "                (LayerNorm): LayerNorm((768,), eps=1e-12, elementwise_affine=True)\n",
       "                (dropout): Dropout(p=0.0, inplace=False)\n",
       "              )\n",
       "            )\n",
       "            (intermediate): BlipTextIntermediate(\n",
       "              (dense): Linear(in_features=768, out_features=3072, bias=True)\n",
       "              (intermediate_act_fn): GELUActivation()\n",
       "            )\n",
       "            (output): BlipTextOutput(\n",
       "              (dense): Linear(in_features=3072, out_features=768, bias=True)\n",
       "              (LayerNorm): LayerNorm((768,), eps=1e-12, elementwise_affine=True)\n",
       "              (dropout): Dropout(p=0.0, inplace=False)\n",
       "            )\n",
       "          )\n",
       "        )\n",
       "      )\n",
       "    )\n",
       "    (cls): BlipTextOnlyMLMHead(\n",
       "      (predictions): BlipTextLMPredictionHead(\n",
       "        (transform): BlipTextPredictionHeadTransform(\n",
       "          (dense): Linear(in_features=768, out_features=768, bias=True)\n",
       "          (transform_act_fn): GELUActivation()\n",
       "          (LayerNorm): LayerNorm((768,), eps=1e-12, elementwise_affine=True)\n",
       "        )\n",
       "        (decoder): Linear(in_features=768, out_features=30524, bias=True)\n",
       "      )\n",
       "    )\n",
       "  )\n",
       ")"
      ]
     },
     "execution_count": 5,
     "metadata": {},
     "output_type": "execute_result"
    }
   ],
   "source": [
    "iterations = 50\n",
    "n_samples = 5\n",
    "gpt = GPT(\"\") #Insert API key\n",
    "naive = Naive()\n",
    "\n",
    "blip_processor = BlipProcessor.from_pretrained(\"Salesforce/blip-image-captioning-base\")\n",
    "blip_model = BlipForConditionalGeneration.from_pretrained(\"Salesforce/blip-image-captioning-base\").to(device)\n",
    "\n",
    "blip_model.load_state_dict(torch.load(\"../weights/rephrased_blip(2nd)/epoch50.pt\"))\n",
    "blip_model.eval()"
   ]
  },
  {
   "cell_type": "markdown",
   "metadata": {},
   "source": [
    "Perform a simulation"
   ]
  },
  {
   "cell_type": "code",
   "execution_count": 6,
   "metadata": {},
   "outputs": [
    {
     "name": "stderr",
     "output_type": "stream",
     "text": [
      "100%|██████████| 50/50 [05:40<00:00,  6.81s/it]\n"
     ]
    }
   ],
   "source": [
    "results = play(iterations, n_samples, gpt, naive, deck, blip_processor, blip_model)"
   ]
  },
  {
   "cell_type": "markdown",
   "metadata": {},
   "source": [
    "Plot the results"
   ]
  },
  {
   "cell_type": "code",
   "execution_count": 7,
   "metadata": {},
   "outputs": [
    {
     "name": "stdout",
     "output_type": "stream",
     "text": [
      "Model     Corrects  Wrongs    \n",
      "------------------------------\n",
      "GPT       0.22      0.78      \n",
      "Naive     0.16      0.84      \n"
     ]
    },
    {
     "data": {
      "image/png": "[encoded data removed]",
      "text/plain": [
       "<Figure size 640x480 with 1 Axes>"
      ]
     },
     "metadata": {},
     "output_type": "display_data"
    }
   ],
   "source": [
    "def plot_results(results: Dict[str, Dict[str, float]]):\n",
    "    labels = list(results.keys()) \n",
    "    corrects = [results[label][\"corrects\"] for label in labels]\n",
    "    wrongs = [results[label][\"wrong\"] for label in labels]\n",
    "\n",
    "    bar_width = 0.35\n",
    "    index = range(len(labels))\n",
    "\n",
    "    plt.bar(index, corrects, bar_width, label='Corrects', color='g')\n",
    "    plt.bar([i + bar_width for i in index], wrongs, bar_width, label='Wrongs', color='r')\n",
    "\n",
    "    plt.xlabel('Models')\n",
    "    plt.ylabel('Proportion')\n",
    "    plt.title('Performance Comparison')\n",
    "    plt.xticks([i + bar_width / 2 for i in index], labels)\n",
    "    plt.legend()\n",
    "\n",
    "    plt.show()\n",
    "\n",
    "def pretty_print(results: dict):\n",
    "    \n",
    "    print(f\"{'Model':<10}{'Corrects':<10}{'Wrongs':<10}\")\n",
    "    print(\"-\" * 30)\n",
    "    \n",
    "    for model, scores in results.items():\n",
    "        corrects = f\"{scores['corrects']:.2f}\"\n",
    "        wrongs = f\"{scores['wrong']:.2f}\"\n",
    "        print(f\"{model:<10}{corrects:<10}{wrongs:<10}\")\n",
    "\n",
    "pretty_print(results)\n",
    "plot_results(results)"
   ]
  }
 ],
 "metadata": {
  "kernelspec": {
   "display_name": "Python 3",
   "language": "python",
   "name": "python3"
  },
  "language_info": {
   "codemirror_mode": {
    "name": "ipython",
    "version": 3
   },
   "file_extension": ".py",
   "mimetype": "text/x-python",
   "name": "python",
   "nbconvert_exporter": "python",
   "pygments_lexer": "ipython3",
   "version": "3.8.10"
  }
 },
 "nbformat": 4,
 "nbformat_minor": 2
}
